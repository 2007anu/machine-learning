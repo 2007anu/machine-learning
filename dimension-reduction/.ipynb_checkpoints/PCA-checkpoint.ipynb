{
 "cells": [
  {
   "cell_type": "markdown",
   "metadata": {
    "collapsed": false,
    "deletable": true,
    "editable": true
   },
   "source": [
    "# Principal Component Analysis\n",
    "---\n",
    "\n",
    "Data $D=[x_{1}, x_{2}, ..., x_{n}]$. Each $x_{i}$ is a d-dimensional vector. \n",
    "Wish to use PCA to reduce dimension to k.\n",
    "\n",
    "1. Find the sample mean  $(u = \\frac{1}{n}\\sum_{i=1}^{n} x_{i})$;\n",
    "2. Subtract sample mean from the data $(z_{i} = x_{i} - u)$;\n",
    "3. Compute the scatter matrix $(S = \\sum_{i=1}^{n} z_{i}z_{i}^{t})$; \n",
    "4. Compute eigenvectors $[e_{1}, e_{2}, ..., e_{k}]$ corresponding to the $k$ largest eigenvalues of $S$;\n",
    "5. Let $[e_{1} ... e_{k}]$ be the columns of matrix $E$;\n",
    "6. The desired y which is the closest approximation to X is $Y = E^t*z$"
   ]
  },
  {
   "cell_type": "code",
   "execution_count": null,
   "metadata": {
    "collapsed": true
   },
   "outputs": [],
   "source": [
    "import matplotlib.pyplot as plt\n",
    "import numpy as np\n",
    "\n",
    "# Sampling data...\n",
    "X = np.array([[1,2],\n",
    "             [2,3],\n",
    "             [3,2],\n",
    "             [4,4],\n",
    "             [5,4],\n",
    "             [6,7],\n",
    "             [7,6],\n",
    "             [9,7]])"
   ]
  },
  {
   "cell_type": "code",
   "execution_count": 2,
   "metadata": {
    "collapsed": false,
    "deletable": true,
    "editable": true
   },
   "outputs": [],
   "source": [
    "# Step 1\n",
    "U = np.array([ X[:,0].mean(), X[:,1].mean() ])\n"
   ]
  },
  {
   "cell_type": "code",
   "execution_count": 3,
   "metadata": {
    "collapsed": false,
    "deletable": true,
    "editable": true
   },
   "outputs": [
    {
     "data": {
      "text/plain": [
       "array([[-3.625, -2.375],\n",
       "       [-2.625, -1.375],\n",
       "       [-1.625, -2.375],\n",
       "       [-0.625, -0.375],\n",
       "       [ 0.375, -0.375],\n",
       "       [ 1.375,  2.625],\n",
       "       [ 2.375,  1.625],\n",
       "       [ 4.375,  2.625]])"
      ]
     },
     "execution_count": 3,
     "metadata": {},
     "output_type": "execute_result"
    }
   ],
   "source": [
    "# Step 2\n",
    "Z = X - U\n",
    "Z"
   ]
  },
  {
   "cell_type": "code",
   "execution_count": 4,
   "metadata": {
    "collapsed": false,
    "deletable": true,
    "editable": true
   },
   "outputs": [
    {
     "data": {
      "text/plain": [
       "array([[ 49.875,  35.125],\n",
       "       [ 35.125,  29.875]])"
      ]
     },
     "execution_count": 4,
     "metadata": {},
     "output_type": "execute_result"
    }
   ],
   "source": [
    "# Step 3\n",
    "S = (X.shape[0]-1) * np.cov(Z.T)\n",
    "#S= np.cov(Z.T)\n",
    "S"
   ]
  },
  {
   "cell_type": "code",
   "execution_count": 12,
   "metadata": {
    "collapsed": false,
    "deletable": true,
    "editable": true
   },
   "outputs": [
    {
     "data": {
      "image/png": "[encoded data removed]",
      "text/plain": [
       "<matplotlib.figure.Figure at 0x10761f860>"
      ]
     },
     "metadata": {},
     "output_type": "display_data"
    }
   ],
   "source": [
    "line = dict(linewidth=1, linestyle='--', color='k')\n",
    "marker = dict(linestyle='none', marker='o', markersize=7, color='blue', alpha=0.5)\n",
    "\n",
    "fig, ax = plt.subplots(figsize=(5, 5))\n",
    "ax.plot(Z[:,0], Z[:,1], **marker)\n",
    "ax.axhline(**line)\n",
    "ax.axvline(**line)\n",
    "ax.set_xlabel('x')\n",
    "ax.set_ylabel('y')\n",
    "ax.set_title(u'Shift data X by the Mean Vector (Z)')\n",
    "_ = ax.axis([-10, 10, -10, 10])\n",
    "\n",
    "plt.show()"
   ]
  },
  {
   "cell_type": "code",
   "execution_count": 14,
   "metadata": {
    "collapsed": false,
    "deletable": true,
    "editable": true
   },
   "outputs": [],
   "source": [
    "# Step 4 = det(Sigma - h*1|)\n",
    "U, eigenvalues, eigenvectors = np.linalg.svd(S)\n",
    "\n",
    "# *** Autovetores são as componentes principais\n",
    "# Normalizando os autovalores\n",
    "####### (eigenvalues - min(eigenvalues)) / (max(eigenvalues) - min(eigenvalues))\n",
    "\n",
    "pc = eigenvectors[1] / eigenvectors[0]\n",
    "#eigenvectors[1] / eigenvectors[0]\n",
    "#pc"
   ]
  },
  {
   "cell_type": "code",
   "execution_count": 15,
   "metadata": {
    "collapsed": false,
    "deletable": true,
    "editable": true
   },
   "outputs": [
    {
     "data": {
      "image/png": "[encoded data removed]",
      "text/plain": [
       "<matplotlib.figure.Figure at 0x1078b86a0>"
      ]
     },
     "metadata": {},
     "output_type": "display_data"
    }
   ],
   "source": [
    "# Plotting the 'principal components'\n",
    "fig, ax = plt.subplots(figsize=(5, 5))\n",
    "ax.plot(Z[:, 0], Z[:, 1], **marker)\n",
    "ax.set_xlim([-12, 12])\n",
    "ax.set_ylim([-12, 12])\n",
    "ax.axhline(**line)\n",
    "ax.axvline(**line)\n",
    "ax.set_xlabel('x')\n",
    "ax.set_ylabel('y')\n",
    "\n",
    "arrowprops = dict(width=0.01, head_width=0.05, alpha = 0.5,\n",
    "                  length_includes_head=False)\n",
    "a1 = ax.arrow(0, 0, eigenvalues[0], pc[0] * eigenvalues[0],\n",
    "              color='k', **arrowprops)\n",
    "a2 = ax.arrow(0, 0, eigenvalues[1], pc[1] * eigenvalues[1],\n",
    "              color='k', **arrowprops)\n",
    "a3 = ax.arrow(0, 0, -eigenvalues[0], -pc[0] * eigenvalues[0],\n",
    "              color='r', **arrowprops)\n",
    "a4 = ax.arrow(0, 0, -eigenvalues[1], -pc[1] * eigenvalues[1],\n",
    "              color='r', **arrowprops)\n",
    "\n",
    "plt.show()"
   ]
  },
  {
   "cell_type": "code",
   "execution_count": 17,
   "metadata": {
    "collapsed": false,
    "deletable": true,
    "editable": true
   },
   "outputs": [
    {
     "data": {
      "image/png": "[encoded data removed]",
      "text/plain": [
       "<matplotlib.figure.Figure at 0x107c0a7f0>"
      ]
     },
     "metadata": {},
     "output_type": "display_data"
    }
   ],
   "source": [
    "# Step 5 and 6\n",
    "\n",
    "# Maxvalue Lambda (autovalue)\n",
    "idxMax = np.argmax(eigenvalues)\n",
    "e1 = np.array([eigenvectors[idxMax, :]]).T\n",
    "\n",
    "# Components projection\n",
    "Y = np.dot(e1.T, Z.T)\n",
    "Y\n",
    "\n",
    "# Plotting...\n",
    "fig, axx = plt.subplots()\n",
    "axx.plot(Y, np.zeros((1,Y.shape[1]), dtype=np.int), 'ro') \n",
    "axx.axhline(**line)\n",
    "_ = axx.set_title('Data Z projected in PC (such that k=1)')\n",
    "plt.show()"
   ]
  }
 ],
 "metadata": {
  "kernelspec": {
   "display_name": "Python 3",
   "language": "python",
   "name": "python3"
  },
  "language_info": {
   "codemirror_mode": {
    "name": "ipython",
    "version": 3
   },
   "file_extension": ".py",
   "mimetype": "text/x-python",
   "name": "python",
   "nbconvert_exporter": "python",
   "pygments_lexer": "ipython3",
   "version": "3.6.0"
  }
 },
 "nbformat": 4,
 "nbformat_minor": 1
}
