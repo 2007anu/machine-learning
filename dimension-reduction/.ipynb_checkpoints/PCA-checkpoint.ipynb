{
 "cells": [
  {
   "cell_type": "markdown",
   "metadata": {
    "collapsed": false,
    "deletable": true,
    "editable": true
   },
   "source": [
    "PCA Recipe\n",
    "Data D={x1,x2,...,xn}. Each xi is a d-dimensional vector. \n",
    "Wish to use PCA to reduce dimension to k.\n",
    "μ μ μ μˆ = = = =\n",
    "2. Subtract sample mean from the data n\n",
    "1. Find the sample mean\n",
    "x\n",
    "i\n",
    "3. Compute the scatter matrix\n",
    "4. Compute eigenvectors e1,e2,...,ek corresponding to\n",
    "the k largest eigenvalues of S\n",
    "5. Let e1,e2,...,ek be the columns of matrix\n",
    "E = [e1 ?ek ]\n",
    "6. The desired y which is the closest approximation toxis y =Etz"
   ]
  },
  {
   "cell_type": "code",
   "execution_count": null,
   "metadata": {
    "collapsed": true
   },
   "outputs": [],
   "source": [
    "import matplotlib.pyplot as plt\n",
    "import numpy as np\n",
    "\n",
    "# Gerando os dados\n",
    "X = np.array([[1,2],\n",
    "             [2,3],\n",
    "             [3,2],\n",
    "             [4,4],\n",
    "             [5,4],\n",
    "             [6,7],\n",
    "             [7,6],\n",
    "             [9,7]])"
   ]
  },
  {
   "cell_type": "code",
   "execution_count": 2,
   "metadata": {
    "collapsed": false,
    "deletable": true,
    "editable": true
   },
   "outputs": [],
   "source": [
    "# Média de X\n",
    "U = np.array([ X[:,0].mean(), X[:,1].mean() ])\n"
   ]
  },
  {
   "cell_type": "code",
   "execution_count": 3,
   "metadata": {
    "collapsed": false,
    "deletable": true,
    "editable": true
   },
   "outputs": [
    {
     "data": {
      "text/plain": [
       "array([[-3.625, -2.375],\n",
       "       [-2.625, -1.375],\n",
       "       [-1.625, -2.375],\n",
       "       [-0.625, -0.375],\n",
       "       [ 0.375, -0.375],\n",
       "       [ 1.375,  2.625],\n",
       "       [ 2.375,  1.625],\n",
       "       [ 4.375,  2.625]])"
      ]
     },
     "execution_count": 3,
     "metadata": {},
     "output_type": "execute_result"
    }
   ],
   "source": [
    "# Subtraindo a média de cada ponto (realocando amostras no ponto 0 do plano)\n",
    "Z = X - U\n",
    "Z"
   ]
  },
  {
   "cell_type": "code",
   "execution_count": 4,
   "metadata": {
    "collapsed": false,
    "deletable": true,
    "editable": true
   },
   "outputs": [
    {
     "data": {
      "text/plain": [
       "array([[ 49.875,  35.125],\n",
       "       [ 35.125,  29.875]])"
      ]
     },
     "execution_count": 4,
     "metadata": {},
     "output_type": "execute_result"
    }
   ],
   "source": [
    "# Calcular a matriz de espalhamento\n",
    "S = (X.shape[0]-1) * np.cov(Z.T)\n",
    "#S= np.cov(Z.T)\n",
    "S"
   ]
  },
  {
   "cell_type": "code",
   "execution_count": 5,
   "metadata": {
    "collapsed": false,
    "deletable": true,
    "editable": true
   },
   "outputs": [
    {
     "data": {
      "image/png": "[encoded data removed]",
      "text/plain": [
       "<matplotlib.figure.Figure at 0x107318320>"
      ]
     },
     "metadata": {},
     "output_type": "display_data"
    }
   ],
   "source": [
    "line = dict(linewidth=1, linestyle='--', color='k')\n",
    "marker = dict(linestyle='none', marker='o', markersize=7, color='blue', alpha=0.5)\n",
    "\n",
    "fig, ax = plt.subplots(figsize=(5, 5))\n",
    "ax.plot(Z[:,0], Z[:,1], **marker)\n",
    "ax.axhline(**line)\n",
    "ax.axvline(**line)\n",
    "ax.set_xlabel('x')\n",
    "ax.set_ylabel('y')\n",
    "ax.set_title(u'Dados Normalizados')\n",
    "_ = ax.axis([-10, 10, -10, 10])\n",
    "\n",
    "plt.show()"
   ]
  },
  {
   "cell_type": "code",
   "execution_count": 6,
   "metadata": {
    "collapsed": false,
    "deletable": true,
    "editable": true
   },
   "outputs": [],
   "source": [
    "# Extraindo os autovalores = det(Sigma - h*1|)\n",
    "U, eigenvalues, eigenvectors = np.linalg.svd(S)\n",
    "\n",
    "# *** Autovetores são as componentes principais\n",
    "# Normalizando os autovalores\n",
    "####### (eigenvalues - min(eigenvalues)) / (max(eigenvalues) - min(eigenvalues))\n",
    "\n",
    "pc = eigenvectors[1] / eigenvectors[0]\n",
    "#eigenvectors[1] / eigenvectors[0]\n",
    "#pc\n",
    "\n"
   ]
  },
  {
   "cell_type": "code",
   "execution_count": 7,
   "metadata": {
    "collapsed": false,
    "deletable": true,
    "editable": true
   },
   "outputs": [
    {
     "data": {
      "image/png": "[encoded data removed]",
      "text/plain": [
       "<matplotlib.figure.Figure at 0x107346c50>"
      ]
     },
     "metadata": {},
     "output_type": "display_data"
    }
   ],
   "source": [
    "# Plotando as componentes principais\n",
    "fig, ax = plt.subplots(figsize=(5, 5))\n",
    "ax.plot(Z[:, 0], Z[:, 1], **marker)\n",
    "ax.set_xlim([-12, 12])\n",
    "ax.set_ylim([-12, 12])\n",
    "ax.axhline(**line)\n",
    "ax.axvline(**line)\n",
    "ax.set_xlabel('x')\n",
    "ax.set_ylabel('y')\n",
    "\n",
    "arrowprops = dict(width=0.01, head_width=0.05, alpha = 0.5,\n",
    "                  length_includes_head=False)\n",
    "a1 = ax.arrow(0, 0, eigenvalues[0], pc[0] * eigenvalues[0],\n",
    "              color='k', **arrowprops)\n",
    "a2 = ax.arrow(0, 0, eigenvalues[1], pc[1] * eigenvalues[1],\n",
    "              color='k', **arrowprops)\n",
    "a3 = ax.arrow(0, 0, -eigenvalues[0], -pc[0] * eigenvalues[0],\n",
    "              color='r', **arrowprops)\n",
    "a4 = ax.arrow(0, 0, -eigenvalues[1], -pc[1] * eigenvalues[1],\n",
    "              color='r', **arrowprops)\n",
    "ax.set_title(u'Componentes principais')\n",
    "\n",
    "plt.show()"
   ]
  },
  {
   "cell_type": "code",
   "execution_count": 8,
   "metadata": {
    "collapsed": false,
    "deletable": true,
    "editable": true
   },
   "outputs": [
    {
     "data": {
      "text/plain": [
       "array([[ 4.32409284,  2.92345661,  2.72796196,  0.72475495, -0.0733105 ,\n",
       "        -2.6790883 , -2.87458295, -5.07328462]])"
      ]
     },
     "execution_count": 8,
     "metadata": {},
     "output_type": "execute_result"
    }
   ],
   "source": [
    "# Maximo valor de Lambda (autovalor)\n",
    "idxMax = np.argmax(eigenvalues)\n",
    "w1 = np.array([eigenvectors[idxMax, :]]).T\n",
    "\n",
    "\n",
    "# Componentes\n",
    "Y = np.dot(w1.T, Z.T)\n",
    "Y"
   ]
  },
  {
   "cell_type": "code",
   "execution_count": 9,
   "metadata": {
    "collapsed": false,
    "deletable": true,
    "editable": true
   },
   "outputs": [
    {
     "data": {
      "image/png": "[encoded data removed]",
      "text/plain": [
       "<matplotlib.figure.Figure at 0x10728d748>"
      ]
     },
     "metadata": {},
     "output_type": "display_data"
    }
   ],
   "source": [
    "# Projecao de X em R1\n",
    "fig, axx = plt.subplots()\n",
    "\n",
    "axx.plot(Y, np.zeros((1,Y.shape[1]), dtype=np.int), 'ro') \n",
    "\n",
    "axx.axhline(**line)\n",
    "\n",
    "_ = axx.set_title('Projecao dos dados em R1')\n",
    "\n",
    "plt.show()"
   ]
  },
  {
   "cell_type": "code",
   "execution_count": null,
   "metadata": {
    "collapsed": true
   },
   "outputs": [],
   "source": []
  }
 ],
 "metadata": {
  "kernelspec": {
   "display_name": "Python 3",
   "language": "python",
   "name": "python3"
  },
  "language_info": {
   "codemirror_mode": {
    "name": "ipython",
    "version": 3
   },
   "file_extension": ".py",
   "mimetype": "text/x-python",
   "name": "python",
   "nbconvert_exporter": "python",
   "pygments_lexer": "ipython3",
   "version": "3.6.0"
  }
 },
 "nbformat": 4,
 "nbformat_minor": 1
}
